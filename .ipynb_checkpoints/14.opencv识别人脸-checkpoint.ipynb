{
 "cells": [
  {
   "cell_type": "code",
   "execution_count": 1,
   "metadata": {},
   "outputs": [],
   "source": [
    "import numpy as np\n",
    "\n",
    "import cv2"
   ]
  },
  {
   "cell_type": "code",
   "execution_count": 2,
   "metadata": {},
   "outputs": [],
   "source": [
    "# 人脸，特征数据的，获取额人脸特征\n",
    "# 交给cv2的算法，算法就可以根据特征查找人脸"
   ]
  },
  {
   "cell_type": "code",
   "execution_count": 3,
   "metadata": {
    "scrolled": true
   },
   "outputs": [],
   "source": [
    "huazai = cv2.imread(\"./huazai.jpg\")\n",
    "\n",
    "# 声明算法，给什么样的特征，就能识别什么样的事物：眼睛、嘴巴等等\n",
    "face_detect = cv2.CascadeClassifier('./haarcascade_frontalface_default.xml')"
   ]
  },
  {
   "cell_type": "code",
   "execution_count": 4,
   "metadata": {},
   "outputs": [
    {
     "name": "stdout",
     "output_type": "stream",
     "text": [
      "[[192 173 376 376]]\n"
     ]
    }
   ],
   "source": [
    "# 人脸检测代码\n",
    "face_zone = face_detect.detectMultiScale(huazai, scaleFactor=1.1, minNeighbors=5)\n",
    "print(face_zone)\n",
    "\n",
    "# 人脸的坐标\n",
    "for x,y,w,h in face_zone:\n",
    "    # 绘制人脸的区域\n",
    "    cv2.rectangle(huazai, pt1=(x, y), pt2=(x+w, y+h), color=[0, 0, 255], thickness=2)\n",
    "    # 绘制圆\n",
    "    cv2.circle(huazai, center=(x+w//2, y+h//2), radius=w//2, color=[0,255,0], thickness=2)"
   ]
  },
  {
   "cell_type": "code",
   "execution_count": 5,
   "metadata": {},
   "outputs": [],
   "source": [
    "\n",
    "\n",
    "cv2.imshow('star', huazai)\n",
    "\n",
    "cv2.waitKey(0)\n",
    "\n",
    "cv2.destroyAllWindows()"
   ]
  },
  {
   "cell_type": "code",
   "execution_count": null,
   "metadata": {},
   "outputs": [],
   "source": []
  },
  {
   "cell_type": "code",
   "execution_count": null,
   "metadata": {},
   "outputs": [],
   "source": []
  }
 ],
 "metadata": {
  "kernelspec": {
   "display_name": "Python 3",
   "language": "python",
   "name": "python3"
  },
  "language_info": {
   "codemirror_mode": {
    "name": "ipython",
    "version": 3
   },
   "file_extension": ".py",
   "mimetype": "text/x-python",
   "name": "python",
   "nbconvert_exporter": "python",
   "pygments_lexer": "ipython3",
   "version": "3.7.0"
  }
 },
 "nbformat": 4,
 "nbformat_minor": 2
}
