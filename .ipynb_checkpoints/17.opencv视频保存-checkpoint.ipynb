{
 "cells": [
  {
   "cell_type": "code",
   "execution_count": 1,
   "metadata": {},
   "outputs": [],
   "source": [
    "import numpy as np\n",
    "\n",
    "import cv2"
   ]
  },
  {
   "cell_type": "code",
   "execution_count": null,
   "metadata": {},
   "outputs": [],
   "source": []
  },
  {
   "cell_type": "code",
   "execution_count": 2,
   "metadata": {},
   "outputs": [
    {
     "name": "stdout",
     "output_type": "stream",
     "text": [
      "1281 721\n"
     ]
    },
    {
     "ename": "AttributeError",
     "evalue": "'cv2.VideoWriter' object has no attribute 'close'",
     "output_type": "error",
     "traceback": [
      "\u001b[1;31m---------------------------------------------------------------------------\u001b[0m",
      "\u001b[1;31mAttributeError\u001b[0m                            Traceback (most recent call last)",
      "\u001b[1;32m<ipython-input-2-fccc890343ad>\u001b[0m in \u001b[0;36m<module>\u001b[1;34m()\u001b[0m\n\u001b[0;32m     25\u001b[0m \u001b[0mcv2\u001b[0m\u001b[1;33m.\u001b[0m\u001b[0mdestroyAllWindows\u001b[0m\u001b[1;33m(\u001b[0m\u001b[1;33m)\u001b[0m\u001b[1;33m\u001b[0m\u001b[0m\n\u001b[0;32m     26\u001b[0m \u001b[0mcap\u001b[0m\u001b[1;33m.\u001b[0m\u001b[0mrelease\u001b[0m\u001b[1;33m(\u001b[0m\u001b[1;33m)\u001b[0m\u001b[1;33m\u001b[0m\u001b[0m\n\u001b[1;32m---> 27\u001b[1;33m \u001b[0mwriter\u001b[0m\u001b[1;33m.\u001b[0m\u001b[0mclose\u001b[0m\u001b[1;33m(\u001b[0m\u001b[1;33m)\u001b[0m\u001b[1;33m\u001b[0m\u001b[0m\n\u001b[0m",
      "\u001b[1;31mAttributeError\u001b[0m: 'cv2.VideoWriter' object has no attribute 'close'"
     ]
    }
   ],
   "source": [
    "cap = cv2.VideoCapture(\"./mp4/安谧和老师开会，陶西当班主任，陶西吓得椅子都翻了.mp4\")\n",
    "# 获取视频的宽度和高度\n",
    "w = int(cap.get(propId=cv2.CAP_PROP_FRAME_WIDTH)) + 1\n",
    "h = int(cap.get(propId=cv2.CAP_PROP_FRAME_HEIGHT)) + 1\n",
    "print(w, h)\n",
    "\n",
    "# 参数一，视频的保存地址\n",
    "# 参数二，视频的编码格式\n",
    "# 参数三，视频的采样频率\n",
    "# 参数四，视频的尺寸\n",
    "# writer = cv2.VideoWriter('./mp4/anmiandtaoxi.avi', cv2.VideoWriter_fourcc('M','P','4','2'), 24, (w,h))\n",
    "writer = cv2.VideoWriter('./mp4/anmiandtaoxi.flv', cv2.VideoWriter_fourcc('F','L','V','1'), 24, (w,h))\n",
    "\n",
    "while True:\n",
    "    flag, frame = cap.read()  # 获取视频的每一帧\n",
    "    \n",
    "    cv2.imshow(\"video\", frame)  # 显示每一帧\n",
    "    \n",
    "    # 保存图片\n",
    "    writer.write(frame)\n",
    "    \n",
    "    if ord(\"q\") == cv2.waitKey(40):\n",
    "        break\n",
    "\n",
    "cv2.destroyAllWindows()\n",
    "cap.release()\n",
    "writer.release()"
   ]
  },
  {
   "cell_type": "code",
   "execution_count": null,
   "metadata": {},
   "outputs": [],
   "source": []
  },
  {
   "cell_type": "code",
   "execution_count": null,
   "metadata": {},
   "outputs": [],
   "source": []
  },
  {
   "cell_type": "code",
   "execution_count": null,
   "metadata": {},
   "outputs": [],
   "source": []
  },
  {
   "cell_type": "code",
   "execution_count": null,
   "metadata": {},
   "outputs": [],
   "source": []
  },
  {
   "cell_type": "code",
   "execution_count": null,
   "metadata": {},
   "outputs": [],
   "source": []
  }
 ],
 "metadata": {
  "kernelspec": {
   "display_name": "Python 3",
   "language": "python",
   "name": "python3"
  },
  "language_info": {
   "codemirror_mode": {
    "name": "ipython",
    "version": 3
   },
   "file_extension": ".py",
   "mimetype": "text/x-python",
   "name": "python",
   "nbconvert_exporter": "python",
   "pygments_lexer": "ipython3",
   "version": "3.7.0"
  }
 },
 "nbformat": 4,
 "nbformat_minor": 2
}
