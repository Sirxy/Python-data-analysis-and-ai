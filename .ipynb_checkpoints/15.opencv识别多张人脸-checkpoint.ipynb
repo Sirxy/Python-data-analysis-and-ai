{
 "cells": [
  {
   "cell_type": "code",
   "execution_count": 1,
   "metadata": {},
   "outputs": [],
   "source": [
    "import numpy as np\n",
    "\n",
    "import cv2"
   ]
  },
  {
   "cell_type": "code",
   "execution_count": 3,
   "metadata": {},
   "outputs": [],
   "source": [
    "face_detect = cv2.CascadeClassifier('./haarcascade_frontalface_default.xml')"
   ]
  },
  {
   "cell_type": "code",
   "execution_count": 17,
   "metadata": {},
   "outputs": [
    {
     "name": "stdout",
     "output_type": "stream",
     "text": [
      "[[241  17  26  26]\n",
      " [338 194  25  25]\n",
      " [167  25  25  25]\n",
      " [ 98  31  26  26]\n",
      " [359  38  26  26]\n",
      " [128 122  25  25]\n",
      " [279 123  25  25]]\n"
     ]
    }
   ],
   "source": [
    "img = cv2.imread('./nba3.jpg')\n",
    "\n",
    "\n",
    "# img是彩色图片，可以将其变成灰色图片进行检测，人脸的区域不会发生变化\n",
    "gray = cv2.cvtColor(img, code=cv2.COLOR_BGR2GRAY)\n",
    "face_zone = face_detect.detectMultiScale(gray, scaleFactor=1.05, minNeighbors=5, maxSize=(75,75))  # 检测的时候，使用黑白图片\n",
    "print(face_zone)\n",
    "for x,y,w,h in face_zone:\n",
    "    \n",
    "    cv2.rectangle(img, pt1=(x, y), pt2=(x+w, y+h), color=[0,0,255], thickness=2)\n",
    "    cv2.circle(img, center=(x+w//2, y+h//2), radius=w//2, color=[0,255,0], thickness=2)\n",
    "\n",
    "# 绘制的时候，彩色的图片    \n",
    "cv2.imshow('nba', img)\n",
    "\n",
    "cv2.waitKey(0)\n",
    "\n",
    "cv2.destroyAllWindows()"
   ]
  },
  {
   "cell_type": "code",
   "execution_count": null,
   "metadata": {},
   "outputs": [],
   "source": []
  },
  {
   "cell_type": "code",
   "execution_count": null,
   "metadata": {},
   "outputs": [],
   "source": []
  },
  {
   "cell_type": "code",
   "execution_count": null,
   "metadata": {},
   "outputs": [],
   "source": []
  },
  {
   "cell_type": "code",
   "execution_count": null,
   "metadata": {},
   "outputs": [],
   "source": [
    "# opencv在检测人脸时，只能检测正脸\n",
    "# 一张图片中如果有多张人脸，人脸的尺寸不一样，算法可以检测到不同尺寸的人脸"
   ]
  },
  {
   "cell_type": "code",
   "execution_count": null,
   "metadata": {},
   "outputs": [],
   "source": []
  },
  {
   "cell_type": "code",
   "execution_count": null,
   "metadata": {},
   "outputs": [],
   "source": []
  },
  {
   "cell_type": "code",
   "execution_count": null,
   "metadata": {},
   "outputs": [],
   "source": []
  }
 ],
 "metadata": {
  "kernelspec": {
   "display_name": "Python 3",
   "language": "python",
   "name": "python3"
  },
  "language_info": {
   "codemirror_mode": {
    "name": "ipython",
    "version": 3
   },
   "file_extension": ".py",
   "mimetype": "text/x-python",
   "name": "python",
   "nbconvert_exporter": "python",
   "pygments_lexer": "ipython3",
   "version": "3.7.0"
  }
 },
 "nbformat": 4,
 "nbformat_minor": 2
}
