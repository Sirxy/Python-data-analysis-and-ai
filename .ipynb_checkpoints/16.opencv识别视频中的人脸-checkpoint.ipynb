{
 "cells": [
  {
   "cell_type": "code",
   "execution_count": 1,
   "metadata": {},
   "outputs": [],
   "source": [
    "import numpy as np\n",
    "\n",
    "import cv2"
   ]
  },
  {
   "cell_type": "code",
   "execution_count": 2,
   "metadata": {},
   "outputs": [],
   "source": [
    "# 加载算法\n",
    "face_detect = cv2.CascadeClassifier('./haarcascade_frontalface_default.xml')"
   ]
  },
  {
   "cell_type": "code",
   "execution_count": 3,
   "metadata": {},
   "outputs": [],
   "source": [
    "cap = cv2.VideoCapture(\"./mp4/陶西当众花式表白安谧老师，这画面真的太甜了！.mp4\") "
   ]
  },
  {
   "cell_type": "code",
   "execution_count": 4,
   "metadata": {},
   "outputs": [
    {
     "data": {
      "text/plain": [
       "25.0"
      ]
     },
     "execution_count": 4,
     "metadata": {},
     "output_type": "execute_result"
    }
   ],
   "source": [
    "cap.get(propId=cv2.CAP_PROP_FPS)  # 一秒多少帧"
   ]
  },
  {
   "cell_type": "code",
   "execution_count": 5,
   "metadata": {},
   "outputs": [],
   "source": [
    "while True:\n",
    "    flag, frame = cap.read()\n",
    "    \n",
    "    if flag == False:\n",
    "        break\n",
    "    \n",
    "    gray = cv2.cvtColor(frame, code=cv2.COLOR_BGR2GRAY)\n",
    "    \n",
    "    face_zone = face_detect.detectMultiScale(gray, scaleFactor=1.1, minNeighbors=3)\n",
    "    \n",
    "    for x,y,w,h in face_zone:\n",
    "        cv2.rectangle(frame, pt1=(x,y), pt2=(x+w, y+h), color=[0,0,255], thickness=2)\n",
    "        cv2.circle(frame, center=(x+w//2,y+h//2), radius=w//2, color=[0,255,0], thickness=2)\n",
    "    \n",
    "    cv2.imshow(\"video\", frame)\n",
    "    \n",
    "    if ord(\"q\") == cv2.waitKey(10):\n",
    "        break\n",
    "cv2.destroyAllWindows()\n",
    "cap.release()"
   ]
  },
  {
   "cell_type": "code",
   "execution_count": 7,
   "metadata": {},
   "outputs": [],
   "source": [
    "# 识别电脑的摄像头\n",
    "cap = cv2.VideoCapture(0)\n",
    "\n",
    "index = 1\n",
    "\n",
    "while True:\n",
    "    flag, frame = cap.read()\n",
    "    \n",
    "    if flag == False:\n",
    "        break\n",
    "    \n",
    "    gray = cv2.cvtColor(frame, code=cv2.COLOR_BGR2GRAY)\n",
    "    \n",
    "    face_zone = face_detect.detectMultiScale(gray, scaleFactor=1.3, minNeighbors=5)\n",
    "    \n",
    "    for x,y,w,h in face_zone:\n",
    "        cv2.rectangle(frame, pt1=(x,y), pt2=(x+w, y+h), color=[0,0,255], thickness=2)\n",
    "        cv2.circle(frame, center=(x+w//2,y+h//2), radius=w//2, color=[0,255,0], thickness=2)\n",
    "    \n",
    "    # 将识别出来的人脸保存\n",
    "    cv2.imwrite(\"./face/%d.jpg\" % (index), frame)\n",
    "    \n",
    "    cv2.imshow(\"video\", frame)\n",
    "    \n",
    "    index += 1\n",
    "    \n",
    "    if ord(\"q\") == cv2.waitKey(10):\n",
    "        break\n",
    "cv2.destroyAllWindows()\n",
    "cap.release()\n"
   ]
  },
  {
   "cell_type": "code",
   "execution_count": null,
   "metadata": {},
   "outputs": [],
   "source": []
  }
 ],
 "metadata": {
  "kernelspec": {
   "display_name": "Python 3",
   "language": "python",
   "name": "python3"
  },
  "language_info": {
   "codemirror_mode": {
    "name": "ipython",
    "version": 3
   },
   "file_extension": ".py",
   "mimetype": "text/x-python",
   "name": "python",
   "nbconvert_exporter": "python",
   "pygments_lexer": "ipython3",
   "version": "3.7.0"
  }
 },
 "nbformat": 4,
 "nbformat_minor": 2
}
